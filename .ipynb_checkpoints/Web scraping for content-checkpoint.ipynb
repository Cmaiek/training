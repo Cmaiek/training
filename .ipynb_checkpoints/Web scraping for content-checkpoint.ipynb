{
 "cells": [
  {
   "cell_type": "code",
   "execution_count": 35,
   "metadata": {},
   "outputs": [],
   "source": [
    "from bs4 import BeautifulSoup as soup\n",
    "from urllib.request import urlopen"
   ]
  },
  {
   "cell_type": "code",
   "execution_count": 36,
   "metadata": {},
   "outputs": [
    {
     "name": "stdout",
     "output_type": "stream",
     "text": [
      "[<table border=\"1\" cellpadding=\"1\" cellspacing=\"1\" class=\"stackrows\" style=\"width: 60%;\"><colgroup><col style=\"width: 40%;\" width=\"40%\"/><col style=\"width: 30%;\" width=\"30%\"/></colgroup><tbody><tr><th align=\"left\" style=\"text-align: left;\">Country</th><th align=\"left\" style=\"text-align: left;\">Length</th><th align=\"left\" style=\"text-align: left;\">First 2 characters (letters)</th></tr><tr><td>Albania*</td><td>28 an</td><td>AL</td></tr><tr><td>Algeria</td><td>24 an</td><td>DZ</td></tr><tr><td>Andorra*</td><td>24 an</td><td>AD</td></tr><tr><td>Angola</td><td>25 an</td><td>AO</td></tr><tr><td>Austria**</td><td>20 an</td><td>AT</td></tr><tr><td>Azerbaijan*</td><td>28 an</td><td>AZ</td></tr><tr><td>Bahrain*</td><td>22 an</td><td>BH</td></tr><tr><td>Belarus*</td><td>28 an</td><td>BY</td></tr><tr><td>Belgium**</td><td>16 an</td><td>BE</td></tr><tr><td>Benin</td><td>28 an</td><td>BJ</td></tr><tr><td>Bosnia and Herzegovina</td><td>20 an</td><td>BA</td></tr><tr><td>Brazil</td><td>29 an</td><td>BR</td></tr><tr><td>British Virgin Islands</td><td>24 an</td><td>VG</td></tr><tr><td>Bulgaria**</td><td>22 an</td><td>BG</td></tr><tr><td>Burkina Faso</td><td>27 an</td><td>BF</td></tr><tr><td>Burundi</td><td>16 an</td><td>BI</td></tr><tr><td>Cameroon</td><td>27 an</td><td>CM</td></tr><tr><td>Cape Verde</td><td>25 an</td><td>CV</td></tr><tr><td>Central African Republic</td><td>27 an</td><td>FR</td></tr><tr><td>Congo</td><td>27 an</td><td>CG</td></tr><tr><td>Costa Rica</td><td>21 an</td><td>CR</td></tr><tr><td>Croatia**</td><td>21 an</td><td>HR</td></tr><tr><td>Cyprus**</td><td>28 an</td><td>CY</td></tr><tr><td>Czech Republic**</td><td>24 an</td><td>CZ</td></tr><tr><td>Denmark**</td><td>18 an</td><td>DK</td></tr><tr><td>Dominican Republic</td><td>28 an</td><td>DO</td></tr><tr><td>Egypt</td><td>27 an</td><td>EG</td></tr><tr><td>Estonia**</td><td>20 an</td><td>EE</td></tr><tr><td>Faroe Islands*</td><td>18 an</td><td>FO</td></tr><tr><td>Finland**</td><td>18 an</td><td>FI</td></tr><tr><td>France**</td><td>27 an</td><td>FR</td></tr><tr><td>French Guiana</td><td>27 an</td><td>FR</td></tr><tr><td>French Polynesia</td><td>27 an</td><td>FR</td></tr><tr><td>Gabon</td><td>27 an</td><td>GA</td></tr><tr><td>Georgia*</td><td>22 an</td><td>GE</td></tr><tr><td>Germany**</td><td>22 an</td><td>DE</td></tr><tr><td>Gibraltar**</td><td>23 an</td><td>GI</td></tr><tr><td>Greece**</td><td>27 an</td><td>GR</td></tr><tr><td>Greenland*</td><td>18 an</td><td>GL</td></tr><tr><td>Guadeloupe</td><td>27 an</td><td>FR</td></tr><tr><td>Guatemala</td><td>28 an</td><td>GT</td></tr><tr><td>Guernsey**</td><td>22 an</td><td>GG</td></tr><tr><td>Hungary**</td><td>28 an</td><td>HU</td></tr><tr><td>Iceland**</td><td>26 an</td><td>IS</td></tr><tr><td>Iran</td><td>26 an</td><td>IR</td></tr><tr><td>Iraq*</td><td>23 an</td><td>IQ</td></tr><tr><td>Ireland**</td><td>22 an</td><td>IE</td></tr><tr><td>Isle of Man**</td><td>22 an</td><td>IM</td></tr><tr><td>Israel*</td><td>23 an</td><td>IL</td></tr><tr><td>Italy**</td><td>27 an</td><td>IT</td></tr><tr><td>Ivory Coast</td><td>28 an</td><td>CI</td></tr><tr><td>Jersey**</td><td>22 an</td><td>JE</td></tr><tr><td>Jordan*</td><td>30 an</td><td>JO</td></tr><tr><td>Kazakhstan</td><td>20 an</td><td>KZ</td></tr><tr><td>Kosovo</td><td>20 an</td><td>XK</td></tr><tr><td>Kuwait*</td><td>30 an</td><td>KW</td></tr><tr><td>Latvia**</td><td>21 an</td><td>LV</td></tr><tr><td>Lebanon*</td><td>28 an</td><td>LB</td></tr><tr><td>Liechtenstein**</td><td>21 an</td><td>LI</td></tr><tr><td>Lithuania**</td><td>20 an</td><td>LT</td></tr><tr><td>Luxembourg**</td><td>20 an</td><td>LU</td></tr><tr><td>North Macedonia</td><td>19 an</td><td>MK</td></tr><tr><td>Madagascar</td><td>27 an</td><td>MG</td></tr><tr><td>Mali</td><td>28 an</td><td>ML</td></tr><tr><td>Malta**</td><td>31 an</td><td>MT</td></tr><tr><td>Martinique</td><td>27 an</td><td>FR</td></tr><tr><td>Mauritania*</td><td>27 an</td><td>MR</td></tr><tr><td>Mauritius</td><td>30 an</td><td>MU</td></tr><tr><td>Moldova*</td><td>24 an</td><td>MD</td></tr><tr><td>Monaco**</td><td>27 an</td><td>MC</td></tr><tr><td>Montenegro</td><td>22 an</td><td>ME</td></tr><tr><td>Mozambique</td><td>25 an</td><td>MZ</td></tr><tr><td>Netherlands**</td><td>18 an</td><td>NL</td></tr><tr><td>New Caledonia</td><td>27 an</td><td>FR</td></tr><tr><td>Norway**</td><td>15 an</td><td>NO</td></tr><tr><td>Pakistan*</td><td>24 an</td><td>PK</td></tr><tr><td>Palestine, State of*</td><td>29 an</td><td>PS</td></tr><tr><td>Poland**</td><td>28 an</td><td>PL</td></tr><tr><td>Portugal**</td><td>25 an</td><td>PT</td></tr><tr><td>Qatar*</td><td>29 an</td><td>QA</td></tr><tr><td>Réunion</td><td>27 an</td><td>FR</td></tr><tr><td>Romania**</td><td>24 an</td><td>RO</td></tr><tr><td>Saint Lucia</td><td>32 an</td><td>LC</td></tr><tr><td>Saint-Pierre and Miquelon</td><td>27 an</td><td>FR</td></tr><tr><td>San Marino**</td><td>27 an</td><td>SM</td></tr><tr><td>Sao Tome and Principe</td><td>25 an</td><td>ST</td></tr><tr><td>Saudi Arabia*</td><td>24 an</td><td>SA</td></tr><tr><td>Senegal</td><td>28 an</td><td>SN</td></tr><tr><td>Serbia</td><td>22 an</td><td>RS</td></tr><tr><td>Seychelles</td><td>31 an</td><td>SC</td></tr><tr><td>Slovakia**</td><td>24 an</td><td>SK</td></tr><tr><td>Slovenia**</td><td>19 an</td><td>SI</td></tr><tr><td>Spain**</td><td>24 an</td><td>ES</td></tr><tr><td>Sweden**</td><td>24 an</td><td>SE</td></tr><tr><td>Switzerland**</td><td>21 an</td><td>CH</td></tr><tr><td>Timor-Leste</td><td>23 an</td><td>TL</td></tr><tr><td>Tunisia*</td><td>24 an</td><td>TN</td></tr><tr><td>Turkey*</td><td>26 an</td><td>TR</td></tr><tr><td>Ukraine</td><td>29 an</td><td>UA</td></tr><tr><td>United Arab Emirates*</td><td>23 an</td><td>AE</td></tr><tr><td>United Kingdom**</td><td>22 an</td><td>GB</td></tr><tr><td>Vatican City State/the Holy See</td><td>22 an</td><td>VA</td></tr><tr><td rowspan=\"1\">Wallis and Futuna</td><td rowspan=\"1\">27 an</td><td rowspan=\"1\">FR</td></tr></tbody></table>]\n"
     ]
    }
   ],
   "source": [
    "iban_url ='https://www.nordea.com/en/our-services/cashmanagement/iban-validator-and-information/iban-countries/'\n",
    "iban_data = urlopen(iban_url)\n",
    "iban_html = iban_data.read()\n",
    "iban_data.close()\n",
    "\n",
    "page_soup = soup(iban_html, 'html.parser')\n",
    "prefix_table = page_soup.findAll('table',{'class':'stackrows'})\n",
    "print(prefix_table)"
   ]
  },
  {
   "cell_type": "code",
   "execution_count": 37,
   "metadata": {},
   "outputs": [
    {
     "name": "stdout",
     "output_type": "stream",
     "text": [
      "[<th align=\"left\" style=\"text-align: left;\">Country</th>, <th align=\"left\" style=\"text-align: left;\">Length</th>, <th align=\"left\" style=\"text-align: left;\">First 2 characters (letters)</th>]\n"
     ]
    }
   ],
   "source": [
    "prefix_table = prefix_table[0]\n",
    "headers = prefix_table.findAll('th',{})\n",
    "print(headers)"
   ]
  },
  {
   "cell_type": "code",
   "execution_count": 38,
   "metadata": {},
   "outputs": [
    {
     "name": "stdout",
     "output_type": "stream",
     "text": [
      "['Country', 'Length', 'First 2 characters (letters)']\n"
     ]
    }
   ],
   "source": [
    "header_titles = []\n",
    "for header in headers:\n",
    "    header_titles.append(header.text)\n",
    "print(header_titles)"
   ]
  },
  {
   "cell_type": "code",
   "execution_count": 42,
   "metadata": {},
   "outputs": [
    {
     "name": "stdout",
     "output_type": "stream",
     "text": [
      "['AL', 'DZ', 'AD', 'AO', 'AT', 'AZ', 'BH', 'BY', 'BE', 'BJ', 'BA', 'BR', 'VG', 'BG', 'BF', 'BI', 'CM', 'CV', 'FR', 'CG', 'CR', 'HR', 'CY', 'CZ', 'DK', 'DO', 'EG', 'EE', 'FO', 'FI', 'GA', 'GE', 'DE', 'GI', 'GR', 'GL', 'GT', 'GG', 'HU', 'IS', 'IR', 'IQ', 'IE', 'IM', 'IL', 'IT', 'CI', 'JE', 'JO', 'KZ', 'XK', 'KW', 'LV', 'LB', 'LI', 'LT', 'LU', 'MK', 'MG', 'ML', 'MT', 'MR', 'MU', 'MD', 'MC', 'ME', 'MZ', 'NL', 'NO', 'PK', 'PS', 'PL', 'PT', 'QA', 'RO', 'LC', 'SM', 'ST', 'SA', 'SN', 'RS', 'SC', 'SK', 'SI', 'ES', 'SE', 'CH', 'TL', 'TN', 'TR', 'UA', 'AE', 'GB', 'VA']\n"
     ]
    }
   ],
   "source": [
    "data = prefix_table.findAll('tr', {})[1:]\n",
    "prefixes = []\n",
    "for row in data:\n",
    "    prefix_data = row.findAll('td',{})[2]\n",
    "    prefix = prefix_data.text\n",
    "    prefixes.append(prefix)\n",
    "prefixes = list(dict.fromkeys(prefixes)) #usunięcie dubli\n",
    "print(prefixes)"
   ]
  },
  {
   "cell_type": "code",
   "execution_count": 43,
   "metadata": {},
   "outputs": [
    {
     "data": {
      "text/plain": [
       "94"
      ]
     },
     "execution_count": 43,
     "metadata": {},
     "output_type": "execute_result"
    }
   ],
   "source": [
    "len(prefixes)"
   ]
  },
  {
   "cell_type": "code",
   "execution_count": null,
   "metadata": {},
   "outputs": [],
   "source": []
  }
 ],
 "metadata": {
  "kernelspec": {
   "display_name": "Python 3",
   "language": "python",
   "name": "python3"
  },
  "language_info": {
   "codemirror_mode": {
    "name": "ipython",
    "version": 3
   },
   "file_extension": ".py",
   "mimetype": "text/x-python",
   "name": "python",
   "nbconvert_exporter": "python",
   "pygments_lexer": "ipython3",
   "version": "3.7.2"
  }
 },
 "nbformat": 4,
 "nbformat_minor": 2
}
