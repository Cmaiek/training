{
 "cells": [
  {
   "cell_type": "code",
   "execution_count": 2,
   "metadata": {},
   "outputs": [],
   "source": [
    "from bs4 import BeautifulSoup as soup\n",
    "from urllib.request import urlopen"
   ]
  },
  {
   "cell_type": "code",
   "execution_count": 22,
   "metadata": {},
   "outputs": [
    {
     "name": "stderr",
     "output_type": "stream",
     "text": [
      "Some characters could not be decoded, and were replaced with REPLACEMENT CHARACTER.\n"
     ]
    }
   ],
   "source": [
    "url ='https://firstround.com/review/the-founder-dating-playbook-heres-the-process-i-used-to-find-my-co-founder/'\n",
    "data = urlopen(url)\n",
    "html = data.read()\n",
    "data.close()\n",
    "page_soup = soup(html, 'html.parser')\n",
    "print(page_soup)\n",
    "soup_content = page_soup.findAll('div',{'class':'_Content__'})\n",
    "print(soup_content)"
   ]
  },
  {
   "cell_type": "code",
   "execution_count": 37,
   "metadata": {},
   "outputs": [
    {
     "name": "stdout",
     "output_type": "stream",
     "text": [
      "[<th align=\"left\" style=\"text-align: left;\">Country</th>, <th align=\"left\" style=\"text-align: left;\">Length</th>, <th align=\"left\" style=\"text-align: left;\">First 2 characters (letters)</th>]\n"
     ]
    }
   ],
   "source": [
    "prefix_table = prefix_table[0]\n",
    "headers = prefix_table.findAll('th',{})\n",
    "print(headers)"
   ]
  },
  {
   "cell_type": "code",
   "execution_count": 38,
   "metadata": {},
   "outputs": [
    {
     "name": "stdout",
     "output_type": "stream",
     "text": [
      "['Country', 'Length', 'First 2 characters (letters)']\n"
     ]
    }
   ],
   "source": [
    "header_titles = []\n",
    "for header in headers:\n",
    "    header_titles.append(header.text)\n",
    "print(header_titles)"
   ]
  },
  {
   "cell_type": "code",
   "execution_count": 42,
   "metadata": {},
   "outputs": [
    {
     "name": "stdout",
     "output_type": "stream",
     "text": [
      "['AL', 'DZ', 'AD', 'AO', 'AT', 'AZ', 'BH', 'BY', 'BE', 'BJ', 'BA', 'BR', 'VG', 'BG', 'BF', 'BI', 'CM', 'CV', 'FR', 'CG', 'CR', 'HR', 'CY', 'CZ', 'DK', 'DO', 'EG', 'EE', 'FO', 'FI', 'GA', 'GE', 'DE', 'GI', 'GR', 'GL', 'GT', 'GG', 'HU', 'IS', 'IR', 'IQ', 'IE', 'IM', 'IL', 'IT', 'CI', 'JE', 'JO', 'KZ', 'XK', 'KW', 'LV', 'LB', 'LI', 'LT', 'LU', 'MK', 'MG', 'ML', 'MT', 'MR', 'MU', 'MD', 'MC', 'ME', 'MZ', 'NL', 'NO', 'PK', 'PS', 'PL', 'PT', 'QA', 'RO', 'LC', 'SM', 'ST', 'SA', 'SN', 'RS', 'SC', 'SK', 'SI', 'ES', 'SE', 'CH', 'TL', 'TN', 'TR', 'UA', 'AE', 'GB', 'VA']\n"
     ]
    }
   ],
   "source": [
    "data = prefix_table.findAll('tr', {})[1:]\n",
    "prefixes = []\n",
    "for row in data:\n",
    "    prefix_data = row.findAll('td',{})[2]\n",
    "    prefix = prefix_data.text\n",
    "    prefixes.append(prefix)\n",
    "prefixes = list(dict.fromkeys(prefixes)) #usunięcie dubli\n",
    "print(prefixes)"
   ]
  },
  {
   "cell_type": "code",
   "execution_count": 43,
   "metadata": {},
   "outputs": [
    {
     "data": {
      "text/plain": [
       "94"
      ]
     },
     "execution_count": 43,
     "metadata": {},
     "output_type": "execute_result"
    }
   ],
   "source": [
    "len(prefixes)"
   ]
  },
  {
   "cell_type": "code",
   "execution_count": null,
   "metadata": {},
   "outputs": [],
   "source": []
  }
 ],
 "metadata": {
  "kernelspec": {
   "display_name": "Python 3",
   "language": "python",
   "name": "python3"
  },
  "language_info": {
   "codemirror_mode": {
    "name": "ipython",
    "version": 3
   },
   "file_extension": ".py",
   "mimetype": "text/x-python",
   "name": "python",
   "nbconvert_exporter": "python",
   "pygments_lexer": "ipython3",
   "version": "3.7.2"
  }
 },
 "nbformat": 4,
 "nbformat_minor": 2
}
